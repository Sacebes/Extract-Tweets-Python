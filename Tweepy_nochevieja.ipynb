{
 "cells": [
  {
   "cell_type": "code",
   "execution_count": null,
   "metadata": {},
   "outputs": [],
   "source": [
    "#This script allows to extract all the Tweets with a given query published.\n",
    "#Tweeter only allows to extract tweets beyond 7 days\n",
    "#there is a limit of 180 queries per 15 minutes\n",
    "\n",
    "#Tweepy must be installed in advanced\n",
    "#You need to modify your credentials (access token, accesss token secret, consumer key and consumer secret), the query and the starting and ending dates\n",
    "\n",
    "#author: sandra acebes (https://github.com/Sacebes)\n",
    "#last update : Jan 7,2019"
   ]
  },
  {
   "cell_type": "code",
   "execution_count": 5,
   "metadata": {},
   "outputs": [],
   "source": [
    "import csv\n",
    "import sys\n",
    "import sys\n",
    "reload(sys)\n",
    "sys.setdefaultencoding('utf8')\n",
    "\n",
    "import tweepy\n",
    "from tweepy.streaming import StreamListener\n",
    "from tweepy import OAuthHandler\n",
    "from tweepy import Stream\n",
    "\n",
    "#Variables that contains the user credentials to access Twitter API (modify)\n",
    "access_token = \"XXXX\"\n",
    "access_token_secret = \"XXXX\"\n",
    "consumer_key = \"XXXX\"\n",
    "consumer_secret = \"XXXX\"\n",
    "\n",
    "auth = OAuthHandler(consumer_key, consumer_secret)\n",
    "auth.set_access_token(access_token, access_token_secret)\n",
    "api = tweepy.API(auth, wait_on_rate_limit=True)\n"
   ]
  },
  {
   "cell_type": "code",
   "execution_count": null,
   "metadata": {},
   "outputs": [],
   "source": [
    "csvFile = open('./output_twitter.csv', 'a')\n",
    "csvWriter = csv.writer(csvFile)\n",
    "fileout = open(\"./output_twitter.txt\",'w')\n",
    "\n",
    "#search parameters (modify)\n",
    "query = \"happy new year\" #Write here the keyword you want to search for.\n",
    "language = \"en\" #Modify this parameter if you are interested in other languages, for example, spanish = \"es\"\n",
    "starting_date = \"2018-12-31\"  #Write here the starting date aa-mm-dd\n",
    "ending_date = \"2019-01-02\"    #Write here the last day aa-mm-dd\n",
    "\n",
    "for tweet in tweepy.Cursor(api.search,q=query,lang=language,tweet_mode=\"extended\", since=starting_date,until=ending_date).items():\n",
    "        fileout.write(str(tweet))  #print the whole tweet in json format\n",
    "        csvWriter.writerow([tweet.created_at, tweet.full_text.encode('utf-8')]) #print only date and text\n",
    "\n",
    "csvFile.close()\n",
    "fileout.close()"
   ]
  }
 ],
 "metadata": {
  "kernelspec": {
   "display_name": "Python 2",
   "language": "python",
   "name": "python2"
  },
  "language_info": {
   "codemirror_mode": {
    "name": "ipython",
    "version": 2
   },
   "file_extension": ".py",
   "mimetype": "text/x-python",
   "name": "python",
   "nbconvert_exporter": "python",
   "pygments_lexer": "ipython2",
   "version": "2.7.14"
  }
 },
 "nbformat": 4,
 "nbformat_minor": 2
}
